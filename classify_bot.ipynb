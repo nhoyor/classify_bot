{
 "cells": [
  {
   "cell_type": "markdown",
   "metadata": {
    "colab_type": "text",
    "id": "view-in-github"
   },
   "source": [
    "<a href=\"https://colab.research.google.com/github/salvadorhm/colab_classify_bot/blob/master/classify_bot.ipynb\" target=\"_parent\"><img src=\"https://colab.research.google.com/assets/colab-badge.svg\" alt=\"Open In Colab\"/></a>"
   ]
  },
  {
   "cell_type": "markdown",
   "metadata": {
    "colab_type": "text",
    "id": "w8we7ALIaijJ"
   },
   "source": [
    "# Instalar Telegram API"
   ]
  },
  {
   "cell_type": "code",
   "execution_count": 7,
   "metadata": {
    "colab": {},
    "colab_type": "code",
    "id": "i3hv1ms9UfnD"
   },
   "outputs": [],
   "source": [
    "#Instalar sólo si no está instalada ya\n",
    "#!pip install python-telegram-bot==5.3.0"
   ]
  },
  {
   "cell_type": "markdown",
   "metadata": {
    "colab_type": "text",
    "id": "WW56tQsfausE"
   },
   "source": [
    "# Checamos directorio de trabajo"
   ]
  },
  {
   "cell_type": "code",
   "execution_count": 1,
   "metadata": {
    "colab": {},
    "colab_type": "code",
    "id": "t6i6kueHaxSF"
   },
   "outputs": [
    {
     "name": "stdout",
     "output_type": "stream",
     "text": [
      "/Users/nicolashoyo/Documents/CITNOVA_EmFuTech/Talleres previos/classify_bot\n",
      "classify.ipynb     \u001b[34minception\u001b[m\u001b[m          \u001b[34mtf_files\u001b[m\u001b[m\n",
      "classify_bot.ipynb \u001b[34minception_Colab\u001b[m\u001b[m    \u001b[34mtf_files_Colab\u001b[m\u001b[m\n",
      "\u001b[34mdownloads\u001b[m\u001b[m          retrain.ipynb      \u001b[34mtraining_dataset\u001b[m\u001b[m\n"
     ]
    }
   ],
   "source": [
    "!pwd\n",
    "!ls"
   ]
  },
  {
   "cell_type": "markdown",
   "metadata": {
    "colab_type": "text",
    "id": "5T45-zcfaz3j"
   },
   "source": [
    "# Librerias"
   ]
  },
  {
   "cell_type": "code",
   "execution_count": 2,
   "metadata": {
    "colab": {},
    "colab_type": "code",
    "id": "fmlj-spka6mr"
   },
   "outputs": [
    {
     "name": "stdout",
     "output_type": "stream",
     "text": [
      "Librerías importadas correctamente\n"
     ]
    }
   ],
   "source": [
    "import tensorflow as tf\n",
    "import sys\n",
    "import os\n",
    "from telegram.ext import Updater, CommandHandler, MessageHandler, Filters\n",
    "import logging\n",
    "\n",
    "print(\"Librerías importadas correctamente\")"
   ]
  },
  {
   "cell_type": "markdown",
   "metadata": {
    "colab_type": "text",
    "id": "E-eMoturbM_l"
   },
   "source": [
    "# Classify"
   ]
  },
  {
   "cell_type": "code",
   "execution_count": 3,
   "metadata": {
    "colab": {},
    "colab_type": "code",
    "id": "OhGVWhyabO0t"
   },
   "outputs": [
    {
     "name": "stdout",
     "output_type": "stream",
     "text": [
      "Método para clasificar creado correctamente\n"
     ]
    }
   ],
   "source": [
    "def classify(image_path):\n",
    "    # Read the image_data\n",
    "    image_data = tf.io.gfile.GFile(image_path, 'rb').read()\n",
    "\n",
    "    # Loads label file, strips off carriage return\n",
    "    label_lines = [line.rstrip() for line in tf.io.gfile.GFile(\"tf_files/retrained_labels.txt\")]\n",
    "\n",
    "    # Unpersists graph from file\n",
    "    with tf.io.gfile.GFile(\"tf_files/retrained_graph.pb\", 'rb') as f:\n",
    "        graph_def = tf.compat.v1.GraphDef()\n",
    "        graph_def.ParseFromString(f.read())\n",
    "        _ = tf.import_graph_def(graph_def, name='')\n",
    "\n",
    "    with tf.compat.v1.Session() as sess:\n",
    "        # Feed the image_data as input to the graph and get first prediction\n",
    "        softmax_tensor = sess.graph.get_tensor_by_name('final_result:0')\n",
    "        \n",
    "        predictions = sess.run(softmax_tensor, \\\n",
    "                {'DecodeJpeg/contents:0': image_data})\n",
    "        \n",
    "        # Sort to show labels of first prediction in order of confidence\n",
    "        top_k = predictions[0].argsort()[-len(predictions[0]):][::-1]\n",
    "        \n",
    "        result = None\n",
    "        for node_id in top_k:\n",
    "            human_string = label_lines[node_id]\n",
    "            accuracy = predictions[0][node_id]\n",
    "            print('%s (score = %.5f)' % (human_string, accuracy))\n",
    "            if accuracy >= 0.9:\n",
    "                result = human_string\n",
    "    return result\n",
    "\n",
    "print(\"Método para clasificar creado correctamente\")"
   ]
  },
  {
   "cell_type": "markdown",
   "metadata": {
    "colab_type": "text",
    "id": "UKAT7_6nYQw0"
   },
   "source": [
    "# Token de telegram"
   ]
  },
  {
   "cell_type": "code",
   "execution_count": 4,
   "metadata": {
    "colab": {},
    "colab_type": "code",
    "id": "Ap9-21lDYTPb"
   },
   "outputs": [
    {
     "name": "stdout",
     "output_type": "stream",
     "text": [
      "token registrado\n"
     ]
    }
   ],
   "source": [
    "# ClassifyImagesBot\n",
    "token = '931048931:AAFSK3XzCTZwUSz2gfGk-TuywWwTtUsBAYE'\n",
    "\n",
    "print(\"token registrado\")"
   ]
  },
  {
   "cell_type": "markdown",
   "metadata": {
    "colab_type": "text",
    "id": "BGswDhxLc5Cw"
   },
   "source": [
    "# Configuración del bot"
   ]
  },
  {
   "cell_type": "code",
   "execution_count": 5,
   "metadata": {
    "colab": {},
    "colab_type": "code",
    "id": "YU0S7GypUXAf"
   },
   "outputs": [
    {
     "name": "stdout",
     "output_type": "stream",
     "text": [
      "Bot configurado correctamente\n"
     ]
    }
   ],
   "source": [
    "# Enable logging\n",
    "try:\n",
    "    logging.basicConfig(\n",
    "        format='%(asctime)s - %(name)s - %(levelname)s - %(message)s', level=logging.INFO)\n",
    "    logger = logging.getLogger(__name__)\n",
    "except Exception as e:\n",
    "    print(\"Error logging {}\".format(e.args))\n",
    "\n",
    "def start(bot, update):\n",
    "    try:\n",
    "        username = update.message.from_user.username\n",
    "        message = \"Hello \" + username\n",
    "        update.message.reply_text(message)\n",
    "    except Exception as e:\n",
    "        print(\"Error start {}\".format(e.args))\n",
    "\n",
    "\n",
    "def help(bot, update):\n",
    "    try:\n",
    "        username = update.message.from_user.username\n",
    "        update.message.reply_text('Hello {}, please send a image for classify'.format(username))\n",
    "    except Exception as e:\n",
    "        print(\"Error help {}\".format(e.args))\n",
    "\n",
    "def analize(bot, update):\n",
    "    try:\n",
    "        message = \"Receiving image...\"\n",
    "        update.message.reply_text(message)\n",
    "        print(message)\n",
    "        \n",
    "        photo_file = bot.getFile(update.message.photo[-1].file_id)\n",
    "        id_user = update.message.from_user.id\n",
    "        id_file = photo_file.file_id\n",
    "        id_analisis = str(id_user) + \"-\" + str(id_file)\n",
    "        \n",
    "        filename = os.path.join('downloads/', '{}.jpg'.format(id_analisis))\n",
    "        photo_file.download(filename)\n",
    "        message = \"Image received, analyzing, please wait a few seconds\"\n",
    "        update.message.reply_text(message)\n",
    "        print(message)\n",
    "        \n",
    "        result = classify(filename)\n",
    "        print(result)\n",
    "        update.message.reply_text(result)\n",
    "        print(\"Waiting image..\")\n",
    "    except Exception as e:\n",
    "        print(\"Error analize {}\".format(e.args))\n",
    "\n",
    "\n",
    "def echo(bot, update):\n",
    "    try:\n",
    "        update.message.reply_text(update.message.text)\n",
    "        print(\"Receiving text...\")\n",
    "        print(\"Waiting for another test...\")\n",
    "        print(update.message.from_user)\n",
    "    except Exception as e:\n",
    "        print(\"Error echo {}\".format(e.args))\n",
    "\n",
    "def error(bot, update, error):\n",
    "    try:\n",
    "        logger.warn('Update \"%s\" caused error \"%s\"' % (update, error))\n",
    "    except Exception as e:\n",
    "        print(\"Error error {}\".format(e.args))\n",
    "\n",
    "def main():\n",
    "    try:\n",
    "        print('ClassifyImagesBot init token')\n",
    "\n",
    "        updater = Updater(token)\n",
    "        # Get the dispatcher to register handlers\n",
    "        dp = updater.dispatcher\n",
    "\n",
    "        print('ClassifyImagesBot init dispatcher')\n",
    "\n",
    "\n",
    "        # on different commands - answer in Telegram\n",
    "        dp.add_handler(CommandHandler(\"start\", start))\n",
    "        dp.add_handler(CommandHandler(\"help\", help))\n",
    "\n",
    "        # on noncommand detect the document type on Telegram\n",
    "        dp.add_handler(MessageHandler(Filters.text, echo))\n",
    "        dp.add_handler(MessageHandler(Filters.photo, analize))\n",
    "\n",
    "        # log all errors\n",
    "        dp.add_error_handler(error)\n",
    "\n",
    "        # Start the Bot\n",
    "        updater.start_polling()\n",
    "        print('ClassifyImagesBot ready')\n",
    "        updater.idle()\n",
    "    except Exception as e:\n",
    "        print(\"Error main {}\".format(e.message))\n",
    "\n",
    "print(\"Bot configurado correctamente\")\n"
   ]
  },
  {
   "cell_type": "markdown",
   "metadata": {
    "colab_type": "text",
    "id": "Ma-aIv87cSfQ"
   },
   "source": [
    "# Ejecutar el Bot"
   ]
  },
  {
   "cell_type": "code",
   "execution_count": 6,
   "metadata": {
    "colab": {},
    "colab_type": "code",
    "id": "fvhxaGsTcWEp"
   },
   "outputs": [
    {
     "name": "stdout",
     "output_type": "stream",
     "text": [
      "ClassifyImagesBot init token\n",
      "ClassifyImagesBot init dispatcher\n",
      "ClassifyImagesBot ready\n",
      "Receiving text...\n",
      "Waiting for another test...\n",
      "{'id': 909058180, 'first_name': 'Nico', 'type': '', 'last_name': 'HR', 'username': ''}\n",
      "Receiving image...\n",
      "Image received, analyzing, please wait a few seconds\n",
      "keyboard (score = 0.99313)\n",
      "mouse (score = 0.00687)\n",
      "keyboard\n",
      "Waiting image..\n",
      "Receiving text...\n",
      "Waiting for another test...\n",
      "{'id': 909058180, 'first_name': 'Nico', 'type': '', 'last_name': 'HR', 'username': ''}\n"
     ]
    }
   ],
   "source": [
    "if __name__ == '__main__':\n",
    "    try:\n",
    "        main()\n",
    "    except Exception as e:\n",
    "        print(\"Error name: {}\".format(e.args))"
   ]
  }
 ],
 "metadata": {
  "accelerator": "GPU",
  "colab": {
   "collapsed_sections": [],
   "name": "classify_bot.ipynb",
   "provenance": []
  },
  "kernelspec": {
   "display_name": "Python 3",
   "language": "python",
   "name": "python3"
  },
  "language_info": {
   "codemirror_mode": {
    "name": "ipython",
    "version": 3
   },
   "file_extension": ".py",
   "mimetype": "text/x-python",
   "name": "python",
   "nbconvert_exporter": "python",
   "pygments_lexer": "ipython3",
   "version": "3.7.6"
  }
 },
 "nbformat": 4,
 "nbformat_minor": 1
}
